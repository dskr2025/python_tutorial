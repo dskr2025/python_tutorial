{
 "cells": [
  {
   "cell_type": "markdown",
   "metadata": {},
   "source": [
    "# Part 1 : Basic Topics\n",
    "\n",
    "* Introduction - [What , Why & How ]\n",
    "\n",
    "* Inbuilt Functions and Keywords\n",
    "    - Inbuilt Functions: print, type, input, len, max, min, abs, round, range, \n",
    "                            enumerate, str, int, float, bool\n",
    "    - Inbuilt Keywords : if, else, elif, for, while, break, continue, def, return, try,\n",
    "         except, finally, pass, in, is, and, or, not\n",
    "\n",
    "* Data Types and Variables \n",
    "    - Integers, Floats, Strings, Booleans\n",
    "    - Type Conversion\n",
    "    - Variable and Assignment\n",
    "\n",
    "* Basic Operators\n",
    "    - Arithmetic Operators\n",
    "    - Comparison Operators\n",
    "    - Logical Operators\n",
    "\n",
    "* Basic Data Structures\n",
    "    - Lists\n",
    "    - Tuples\n",
    "    - Sets\n",
    "    - Dictionaries\n",
    "\n",
    "* Control Structures\n",
    "\n",
    "    - Conditional Statements (if, elif, else)\n",
    "    - Loops (for, while)\n",
    "    - break, continue, and pass\n",
    "\n",
    "* Functions\n",
    "    - Defining and Calling Functions\n",
    "    - Arguments and Return Values\n",
    "    - Local and Global Variables\n",
    "    - Lambda Functions"
   ]
  },
  {
   "cell_type": "markdown",
   "metadata": {},
   "source": []
  },
  {
   "cell_type": "code",
   "execution_count": 17,
   "metadata": {},
   "outputs": [
    {
     "data": {
      "text/plain": [
       "'Python is a high-level, interpreted programming language known for its simplicity and readability.\\n It is widely used in web development, data science, automation, and more. Learning Python provides a \\n strong foundation in programming concepts and problem-solving.'"
      ]
     },
     "execution_count": 17,
     "metadata": {},
     "output_type": "execute_result"
    }
   ],
   "source": [
    "# Introduction - [What , Why & How ]\n",
    "\"\"\"Python is a high-level, interpreted programming language known for its simplicity and readability.\n",
    " It is widely used in web development, data science, automation, and more. Learning Python provides a \n",
    " strong foundation in programming concepts and problem-solving.\"\"\""
   ]
  },
  {
   "cell_type": "markdown",
   "metadata": {},
   "source": [
    "# Inbuilt Functions and Keywords\n",
    "    - Inbuilt Functions: print, type, input, len, max, min, abs, round, range, \n",
    "                            enumerate, str, int, float, bool\n",
    "    - Inbuilt Keywords : if, else, elif, for, while, break, continue, def, return, try,\n",
    "                            except, finally, pass, in, is, and, or, not\n"
   ]
  },
  {
   "cell_type": "code",
   "execution_count": null,
   "metadata": {},
   "outputs": [],
   "source": []
  },
  {
   "cell_type": "code",
   "execution_count": null,
   "metadata": {},
   "outputs": [],
   "source": []
  },
  {
   "cell_type": "markdown",
   "metadata": {},
   "source": [
    "### Data Types and Variables \n",
    "    - Integers, Floats, Strings, Booleans\n",
    "    - Type Conversion\n",
    "    - Variable and Assignment\n",
    "\n",
    "     * Integers : all negative to positive numbers (- inf  to inf) -> -100 , 0 , 299\n",
    "     * Floats : All decimmal values \n",
    "     * Strings : \"a\" , 'a' , \"apple\" , \"Hello world\"\n",
    "     * Booleans : True, False \n",
    "\n"
   ]
  },
  {
   "cell_type": "code",
   "execution_count": null,
   "metadata": {},
   "outputs": [],
   "source": []
  },
  {
   "cell_type": "code",
   "execution_count": null,
   "metadata": {},
   "outputs": [],
   "source": []
  },
  {
   "cell_type": "markdown",
   "metadata": {},
   "source": [
    "### Basic Operators\n",
    "    - Arithmetic Operators : +, - , * , / , % , **\n",
    "    - Comparison Operators : ==, != , > , <\n",
    "    - Logical Operators : and , or ,  not"
   ]
  },
  {
   "cell_type": "code",
   "execution_count": 22,
   "metadata": {},
   "outputs": [
    {
     "name": "stdout",
     "output_type": "stream",
     "text": [
      "Addition :  13\n",
      "Subtraction :  7\n",
      "Multiplication :  30\n",
      "Division 3.3333333333333335\n",
      "Modulus :  1\n",
      "Exponentiation:  1000\n"
     ]
    }
   ],
   "source": [
    "x = 10\n",
    "y = 3\n",
    "print(\"Addition : \" , x + y)  # Addition\n",
    "print(\"Subtraction : \" , x - y)  # Subtraction\n",
    "print(\"Multiplication : \",  x * y)  # Multiplication\n",
    "print(\"Division\" , x / y)  # Division\n",
    "print(\"Modulus : \" , x % y)  # Modulus\n",
    "print(\"Exponentiation: \" ,x ** y)  # Exponentiation"
   ]
  },
  {
   "cell_type": "code",
   "execution_count": null,
   "metadata": {},
   "outputs": [],
   "source": [
    "a = 5\n",
    "b = 10\n",
    "print(a == b)  # False\n",
    "print(a != b)  # True\n",
    "print(a > b)  # False\n",
    "print(a < b)  # True"
   ]
  },
  {
   "cell_type": "code",
   "execution_count": null,
   "metadata": {},
   "outputs": [],
   "source": [
    "x = True\n",
    "y = False\n",
    "print(x and y)  # False\n",
    "print(x or y)  # True\n",
    "print(not x)  # False"
   ]
  },
  {
   "cell_type": "markdown",
   "metadata": {},
   "source": [
    "### Basic Data Structures\n",
    "    - Lists\n",
    "    - Tuples\n",
    "    - Sets\n",
    "    - Dictionaries\n"
   ]
  },
  {
   "cell_type": "code",
   "execution_count": null,
   "metadata": {},
   "outputs": [],
   "source": [
    "fruits = [\"apple\", \"banana\", \"cherry\"]\n",
    "print(fruits[0])  # apple\n",
    "fruits.append(\"orange\")  # Add an element"
   ]
  },
  {
   "cell_type": "code",
   "execution_count": null,
   "metadata": {},
   "outputs": [],
   "source": [
    "tuple1 = (1, 2, 3)\n",
    "print(tuple1[1])  # 2\n",
    "# Tuples are immutable (cannot be changed)"
   ]
  },
  {
   "cell_type": "code",
   "execution_count": null,
   "metadata": {},
   "outputs": [],
   "source": [
    "my_set = {1, 2, 3, 4}\n",
    "my_set.add(5)\n",
    "print(my_set)"
   ]
  },
  {
   "cell_type": "code",
   "execution_count": null,
   "metadata": {},
   "outputs": [],
   "source": [
    "person = {\"name\": \"Alice\", \"age\": 25}\n",
    "print(person[\"name\"])  # Alice"
   ]
  },
  {
   "cell_type": "markdown",
   "metadata": {},
   "source": [
    "### Control Structures\n",
    "\n",
    "    - Conditional Statements (if, elif, else)\n",
    "    - Loops (for, while)\n",
    "    - break, continue, and pass"
   ]
  },
  {
   "cell_type": "code",
   "execution_count": null,
   "metadata": {},
   "outputs": [],
   "source": [
    "age = 20\n",
    "if age < 18:\n",
    "    print(\"Minor\")\n",
    "elif age == 18:\n",
    "    print(\"Just turned adult\")\n",
    "else:\n",
    "    print(\"Adult\")"
   ]
  },
  {
   "cell_type": "code",
   "execution_count": null,
   "metadata": {},
   "outputs": [],
   "source": [
    "# For loop\n",
    "for i in range(5):\n",
    "    print(i)\n",
    "\n",
    "# While loop\n",
    "x = 0\n",
    "while x < 5:\n",
    "    print(x)\n",
    "    x += 1"
   ]
  },
  {
   "cell_type": "code",
   "execution_count": null,
   "metadata": {},
   "outputs": [],
   "source": [
    "for i in range(5):\n",
    "    if i == 3:\n",
    "        break  # Stops loop at 3\n",
    "    print(i)\n",
    "\n",
    "for i in range(5):\n",
    "    if i == 2:\n",
    "        continue  # Skips 2\n",
    "    print(i)\n",
    "\n",
    "def my_function():\n",
    "    pass "
   ]
  },
  {
   "cell_type": "markdown",
   "metadata": {},
   "source": [
    "### Functions\n",
    "    - Defining and Calling Functions\n",
    "    - Arguments and Return Values\n",
    "    - Local and Global Variables\n",
    "    - Lambda Functions"
   ]
  },
  {
   "cell_type": "code",
   "execution_count": null,
   "metadata": {},
   "outputs": [],
   "source": [
    "def greet(name):\n",
    "    return f\"Hello, {name}!\"\n",
    "print(greet(\"Alice\"))"
   ]
  },
  {
   "cell_type": "code",
   "execution_count": null,
   "metadata": {},
   "outputs": [],
   "source": [
    "def add(a, b):\n",
    "    return a + b\n",
    "print(add(5, 3)) "
   ]
  },
  {
   "cell_type": "code",
   "execution_count": null,
   "metadata": {},
   "outputs": [],
   "source": [
    "global_var = \"I am global\"\n",
    "def my_func():\n",
    "    local_var = \"I am local\"\n",
    "    print(local_var)\n",
    "my_func()\n",
    "print(global_var)"
   ]
  },
  {
   "cell_type": "code",
   "execution_count": 1,
   "metadata": {},
   "outputs": [
    {
     "name": "stdout",
     "output_type": "stream",
     "text": [
      "7\n"
     ]
    }
   ],
   "source": [
    "f = lambda a , b, c : a+b*c\n",
    "r = f(1,2,3)\n",
    "print(r)"
   ]
  },
  {
   "cell_type": "markdown",
   "metadata": {},
   "source": []
  },
  {
   "cell_type": "code",
   "execution_count": 5,
   "metadata": {},
   "outputs": [
    {
     "data": {
      "text/plain": [
       "'nhy nnaLm '"
      ]
     },
     "execution_count": 5,
     "metadata": {},
     "output_type": "execute_result"
    }
   ],
   "source": [
    "res = \"\"\n",
    "inp =\"I am Learning python\"\n",
    "lst = inp[-1::-2]\n",
    "start = nIo hatmy pL eganrin\n"
   ]
  },
  {
   "cell_type": "code",
   "execution_count": 6,
   "metadata": {},
   "outputs": [
    {
     "data": {
      "text/plain": [
       "4.1"
      ]
     },
     "execution_count": 6,
     "metadata": {},
     "output_type": "execute_result"
    }
   ],
   "source": []
  },
  {
   "cell_type": "markdown",
   "metadata": {},
   "source": [
    "### 30 Basic Programming Questions\n",
    "\n",
    "    1. Write a program to find the largest of three given numbers.\n",
    "    2.  Create a function that accepts a number as an argument and returns \"Odd\" or \"Even\". If input is a string, return \"Please provide a number\".\n",
    "    3.  Reverse a string without using inbuilt functions.\n",
    "    4.  Create a function to Check if a number is prime.\n",
    "    5.  write a function to Calculate the factorial of a given number.\n",
    "        Exaple factorial(5) = 1*2*3*4*5 = 120\n",
    "    6.  create a function that accepts two numbers and  returns sum of all prime numbers between them.\n",
    "    7.  Write a program to find the sum of all numbers in a given list, List may also contain string values. skip the string values. \n",
    "        Example : Input => [2,\"a\", 6, -3 ,\"apple\" ,2.1] \n",
    "                  Output => 2 + 6 + (-3) + 2.1 = 7.1\n",
    "    8.  Count occurrences of a character in a string.\n",
    "    9.  Write a function to check if a given string is a palindrome.\n",
    "        a string that reads the same forwards and backwards. For example, \"madam\", \"racecar\",\n",
    "         and \"12321\"\n",
    "    10. Generate the first N numbers in the Fibonacci sequence.\n",
    "        Fibonacci series is a sequence of numbers where each number is the sum of the \n",
    "        two numbers before it.\n",
    "        The series starts with 0 and 1, and continues infinitely. \n",
    "        Example : first 5 numbers of Fibonacci Series => 0, 1 , 1, 2, 3\n",
    "    11. Find the second largest number in a list.\n",
    "    12. Merge two lists, remove duplicates, and return the sorted result.\n",
    "    13. Convert Celsius to Fahrenheit. (use Formula : (0°C × 9/5) + 32 = 32°F)\n",
    "    14. Find the length of a string without using len().\n",
    "    15. Find common elements in two lists.\n",
    "        Example : list1 = [1,2,2,3,4] , list2 = [1,4,5,6]\n",
    "                  result =  [1,4]\n",
    "    16. Count the number of vowels in a string.\n",
    "    17. Check if a number is a perfect square.\n",
    "    18. Check if a string contains only digits.\n",
    "    19. Find the sum of digits of a number without type casting.\n",
    "    20. Find all factors of a given number.\n",
    "    21. \n",
    "    22. Find the greatest common divisor (GCD) of two numbers.\n",
    "    23. Sort a list without using sort().\n",
    "    24. Write a funnction to check if two strings are anagrams. \n",
    "        An anagram of a string is another string that contains same characters, only the order\n",
    "         of characters can be different. \n",
    "        Examples: Input : str1 = \"abcd\", str2 = \"dcab\" Output : True \n",
    "                  Input : str1 = \"abcf\", str2 = \"afabc\" Output : False.\n",
    "    25. \n",
    "    26. Find the intersection of two sets. \n",
    "        Example : set1 ={1,2,3,4} ,  set2 ={3,4,5} \n",
    "        Output :  result = {3,4}\n",
    "    27. Find the maximum occurring character in a string.\n",
    "    28. Write a function to Convert a decimal number to binary without using built-in functions.\n",
    "    29. Find the median of a list.\n",
    "    30. Write a program to arrange the characters of given string such that \n",
    "            last character comes at start, \n",
    "            then first character from start should come at second position\n",
    "            then 2nd charater from last should come at 3rd position\n",
    "            then 2nd character from start should come at 4th position\n",
    "            and so on\n",
    "            Example : Input =>  I am Learning python\n",
    "                      Output => nIo hatmy pL eganrin"
   ]
  },
  {
   "cell_type": "code",
   "execution_count": null,
   "metadata": {},
   "outputs": [],
   "source": []
  }
 ],
 "metadata": {
  "kernelspec": {
   "display_name": "Python 3",
   "language": "python",
   "name": "python3"
  },
  "language_info": {
   "codemirror_mode": {
    "name": "ipython",
    "version": 3
   },
   "file_extension": ".py",
   "mimetype": "text/x-python",
   "name": "python",
   "nbconvert_exporter": "python",
   "pygments_lexer": "ipython3",
   "version": "3.12.0"
  }
 },
 "nbformat": 4,
 "nbformat_minor": 2
}
